{
 "cells": [
  {
   "cell_type": "code",
   "execution_count": 1,
   "id": "2b2586d7-a9b2-406e-ae08-65a88f41a497",
   "metadata": {},
   "outputs": [],
   "source": [
    "import os"
   ]
  },
  {
   "cell_type": "code",
   "execution_count": 2,
   "id": "85c1f8fb-117a-46cd-9a28-38567c2526ad",
   "metadata": {
    "collapsed": true,
    "jupyter": {
     "outputs_hidden": true
    }
   },
   "outputs": [
    {
     "data": {
      "text/plain": [
       "environ{'TERM_SESSION_ID': 'w0t0p0:41F5FB3D-820A-4797-AFD5-2C6FB704060C',\n",
       "        'SSH_AUTH_SOCK': '/private/tmp/com.apple.launchd.vvEqRWpTxj/Listeners',\n",
       "        'LC_TERMINAL_VERSION': '3.4.18',\n",
       "        'COLORFGBG': '7;0',\n",
       "        'ITERM_PROFILE': 'Default',\n",
       "        'XPC_FLAGS': '0x0',\n",
       "        'LANG': 'en_US.UTF-8',\n",
       "        'PWD': '/Users/bogdan/Desktop/notebooks',\n",
       "        'SHELL': '/bin/zsh',\n",
       "        '__CFBundleIdentifier': 'com.googlecode.iterm2',\n",
       "        'SECURITYSESSIONID': '186a4',\n",
       "        'TERM_PROGRAM_VERSION': '3.4.18',\n",
       "        'TERM_PROGRAM': 'iTerm.app',\n",
       "        'PATH': '/Library/Frameworks/Python.framework/Versions/3.11/bin:/usr/local/bin:/System/Cryptexes/App/usr/bin:/usr/bin:/bin:/usr/sbin:/sbin',\n",
       "        'LC_TERMINAL': 'iTerm2',\n",
       "        'COLORTERM': 'truecolor',\n",
       "        'COMMAND_MODE': 'unix2003',\n",
       "        'TERM': 'xterm-color',\n",
       "        'HOME': '/Users/bogdan',\n",
       "        'TMPDIR': '/var/folders/28/ky376qqn7ds4wbxn72_j9h440000gn/T/',\n",
       "        'USER': 'bogdan',\n",
       "        'XPC_SERVICE_NAME': '0',\n",
       "        'LOGNAME': 'bogdan',\n",
       "        'LaunchInstanceID': '57498E37-5FA2-4A01-8B71-BFE7B8621E1A',\n",
       "        '__CF_USER_TEXT_ENCODING': '0x1F5:0x0:0x0',\n",
       "        'ITERM_SESSION_ID': 'w0t0p0:41F5FB3D-820A-4797-AFD5-2C6FB704060C',\n",
       "        'SHLVL': '1',\n",
       "        'OLDPWD': '/Users/bogdan/Desktop',\n",
       "        'ZSH': '/Users/bogdan/.oh-my-zsh',\n",
       "        'PAGER': 'cat',\n",
       "        'LESS': '-R',\n",
       "        'LSCOLORS': 'Gxfxcxdxbxegedabagacad',\n",
       "        'LS_COLORS': 'di=1;36:ln=35:so=32:pi=33:ex=31:bd=34;46:cd=34;43:su=30;41:sg=30;46:tw=30;42:ow=30;43',\n",
       "        '_': '/Library/Frameworks/Python.framework/Versions/3.11/bin/jupyter-lab',\n",
       "        'PYDEVD_USE_FRAME_EVAL': 'NO',\n",
       "        'JPY_SESSION_NAME': '/Users/bogdan/Desktop/notebooks/Untitled.ipynb',\n",
       "        'JPY_PARENT_PID': '1020',\n",
       "        'CLICOLOR': '1',\n",
       "        'FORCE_COLOR': '1',\n",
       "        'CLICOLOR_FORCE': '1',\n",
       "        'GIT_PAGER': 'cat',\n",
       "        'MPLBACKEND': 'module://matplotlib_inline.backend_inline'}"
      ]
     },
     "execution_count": 2,
     "metadata": {},
     "output_type": "execute_result"
    }
   ],
   "source": [
    "os.environ"
   ]
  },
  {
   "cell_type": "code",
   "execution_count": 3,
   "id": "096453fb-e09c-47f6-9ff6-ce1202c04b49",
   "metadata": {},
   "outputs": [
    {
     "data": {
      "text/plain": [
       "<function print(*args, sep=' ', end='\\n', file=None, flush=False)>"
      ]
     },
     "execution_count": 3,
     "metadata": {},
     "output_type": "execute_result"
    }
   ],
   "source": [
    "print"
   ]
  }
 ],
 "metadata": {
  "kernelspec": {
   "display_name": "Python 3 (ipykernel)",
   "language": "python",
   "name": "python3"
  },
  "language_info": {
   "codemirror_mode": {
    "name": "ipython",
    "version": 3
   },
   "file_extension": ".py",
   "mimetype": "text/x-python",
   "name": "python",
   "nbconvert_exporter": "python",
   "pygments_lexer": "ipython3",
   "version": "3.11.3"
  }
 },
 "nbformat": 4,
 "nbformat_minor": 5
}
