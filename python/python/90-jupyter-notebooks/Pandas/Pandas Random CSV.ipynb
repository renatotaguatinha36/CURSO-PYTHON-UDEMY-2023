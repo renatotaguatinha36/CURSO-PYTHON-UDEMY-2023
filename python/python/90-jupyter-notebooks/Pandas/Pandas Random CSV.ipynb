{
 "cells": [
  {
   "cell_type": "code",
   "execution_count": 62,
   "id": "a68e3e7d-3f99-4055-b471-3fe46da0d487",
   "metadata": {
    "collapsed": true,
    "jupyter": {
     "outputs_hidden": true
    }
   },
   "outputs": [
    {
     "name": "stdout",
     "output_type": "stream",
     "text": [
      "Requirement already satisfied: openpyxl in /Library/Frameworks/Python.framework/Versions/3.11/lib/python3.11/site-packages (3.1.2)\n",
      "Requirement already satisfied: matplotlib in /Library/Frameworks/Python.framework/Versions/3.11/lib/python3.11/site-packages (3.7.1)\n",
      "Requirement already satisfied: et-xmlfile in /Library/Frameworks/Python.framework/Versions/3.11/lib/python3.11/site-packages (from openpyxl) (1.1.0)\n",
      "Requirement already satisfied: contourpy>=1.0.1 in /Library/Frameworks/Python.framework/Versions/3.11/lib/python3.11/site-packages (from matplotlib) (1.1.0)\n",
      "Requirement already satisfied: cycler>=0.10 in /Library/Frameworks/Python.framework/Versions/3.11/lib/python3.11/site-packages (from matplotlib) (0.11.0)\n",
      "Requirement already satisfied: fonttools>=4.22.0 in /Library/Frameworks/Python.framework/Versions/3.11/lib/python3.11/site-packages (from matplotlib) (4.40.0)\n",
      "Requirement already satisfied: kiwisolver>=1.0.1 in /Library/Frameworks/Python.framework/Versions/3.11/lib/python3.11/site-packages (from matplotlib) (1.4.4)\n",
      "Requirement already satisfied: numpy>=1.20 in /Library/Frameworks/Python.framework/Versions/3.11/lib/python3.11/site-packages (from matplotlib) (1.25.0)\n",
      "Requirement already satisfied: packaging>=20.0 in /Library/Frameworks/Python.framework/Versions/3.11/lib/python3.11/site-packages (from matplotlib) (23.1)\n",
      "Requirement already satisfied: pillow>=6.2.0 in /Library/Frameworks/Python.framework/Versions/3.11/lib/python3.11/site-packages (from matplotlib) (9.5.0)\n",
      "Requirement already satisfied: pyparsing>=2.3.1 in /Library/Frameworks/Python.framework/Versions/3.11/lib/python3.11/site-packages (from matplotlib) (3.1.0)\n",
      "Requirement already satisfied: python-dateutil>=2.7 in /Library/Frameworks/Python.framework/Versions/3.11/lib/python3.11/site-packages (from matplotlib) (2.8.2)\n",
      "Requirement already satisfied: six>=1.5 in /Library/Frameworks/Python.framework/Versions/3.11/lib/python3.11/site-packages (from python-dateutil>=2.7->matplotlib) (1.16.0)\n"
     ]
    }
   ],
   "source": [
    "!pip install openpyxl matplotlib"
   ]
  },
  {
   "cell_type": "code",
   "execution_count": 63,
   "id": "03d1e6d7-5377-4506-8d74-c7596052758c",
   "metadata": {},
   "outputs": [],
   "source": [
    "import pandas as pd\n",
    "import numpy as np\n",
    "import matplotlib.pyplot as plt"
   ]
  },
  {
   "cell_type": "code",
   "execution_count": 64,
   "id": "f33df805-3c04-4779-a40d-e6a85563b5c2",
   "metadata": {},
   "outputs": [
    {
     "data": {
      "text/html": [
       "<div>\n",
       "<style scoped>\n",
       "    .dataframe tbody tr th:only-of-type {\n",
       "        vertical-align: middle;\n",
       "    }\n",
       "\n",
       "    .dataframe tbody tr th {\n",
       "        vertical-align: top;\n",
       "    }\n",
       "\n",
       "    .dataframe thead th {\n",
       "        text-align: right;\n",
       "    }\n",
       "</style>\n",
       "<table border=\"1\" class=\"dataframe\">\n",
       "  <thead>\n",
       "    <tr style=\"text-align: right;\">\n",
       "      <th></th>\n",
       "      <th>Date</th>\n",
       "      <th>Product</th>\n",
       "      <th>Price</th>\n",
       "      <th>Quantity</th>\n",
       "    </tr>\n",
       "  </thead>\n",
       "  <tbody>\n",
       "    <tr>\n",
       "      <th>0</th>\n",
       "      <td>2045-01-01</td>\n",
       "      <td>Microphone</td>\n",
       "      <td>112.55</td>\n",
       "      <td>5</td>\n",
       "    </tr>\n",
       "    <tr>\n",
       "      <th>1</th>\n",
       "      <td>2045-01-02</td>\n",
       "      <td>Microphone</td>\n",
       "      <td>158.05</td>\n",
       "      <td>7</td>\n",
       "    </tr>\n",
       "    <tr>\n",
       "      <th>2</th>\n",
       "      <td>2045-01-03</td>\n",
       "      <td>Table</td>\n",
       "      <td>50.02</td>\n",
       "      <td>1</td>\n",
       "    </tr>\n",
       "    <tr>\n",
       "      <th>3</th>\n",
       "      <td>2045-01-04</td>\n",
       "      <td>Microphone</td>\n",
       "      <td>95.35</td>\n",
       "      <td>7</td>\n",
       "    </tr>\n",
       "    <tr>\n",
       "      <th>4</th>\n",
       "      <td>2045-01-05</td>\n",
       "      <td>Phone</td>\n",
       "      <td>72.01</td>\n",
       "      <td>6</td>\n",
       "    </tr>\n",
       "  </tbody>\n",
       "</table>\n",
       "</div>"
      ],
      "text/plain": [
       "        Date     Product   Price  Quantity\n",
       "0 2045-01-01  Microphone  112.55         5\n",
       "1 2045-01-02  Microphone  158.05         7\n",
       "2 2045-01-03       Table   50.02         1\n",
       "3 2045-01-04  Microphone   95.35         7\n",
       "4 2045-01-05       Phone   72.01         6"
      ]
     },
     "execution_count": 64,
     "metadata": {},
     "output_type": "execute_result"
    }
   ],
   "source": [
    "np.random.seed(1)\n",
    "n = 100\n",
    "dates = pd.date_range(start='2045-01-01', periods=n, freq='D')\n",
    "products = ['Tablet', 'Camera', 'Phone', 'Microphone', 'Table']\n",
    "prices = np.round(np.random.uniform(50, 200, n), 2)\n",
    "quantities = np.random.randint(1, 15, n)\n",
    "\n",
    "data = {\n",
    "    'Date': dates,\n",
    "    'Product': np.random.choice(products, n),\n",
    "    'Price': prices,\n",
    "    'Quantity': quantities\n",
    "}\n",
    "\n",
    "df = pd.DataFrame(data)\n",
    "df.head()"
   ]
  },
  {
   "cell_type": "code",
   "execution_count": 65,
   "id": "4554c098-98d4-4813-93f1-49251964209a",
   "metadata": {},
   "outputs": [
    {
     "data": {
      "text/plain": [
       "Date        datetime64[ns]\n",
       "Product             object\n",
       "Price              float64\n",
       "Quantity             int64\n",
       "dtype: object"
      ]
     },
     "execution_count": 65,
     "metadata": {},
     "output_type": "execute_result"
    }
   ],
   "source": [
    "df.dtypes"
   ]
  },
  {
   "cell_type": "code",
   "execution_count": 66,
   "id": "ed78c614-da91-4139-89c0-2dee5c7f2563",
   "metadata": {},
   "outputs": [],
   "source": [
    "df.to_csv('random_sales.csv', index=False)"
   ]
  },
  {
   "cell_type": "code",
   "execution_count": 67,
   "id": "92eb2849-e27e-4aae-89f1-15287f1c241f",
   "metadata": {},
   "outputs": [
    {
     "data": {
      "text/html": [
       "<div>\n",
       "<style scoped>\n",
       "    .dataframe tbody tr th:only-of-type {\n",
       "        vertical-align: middle;\n",
       "    }\n",
       "\n",
       "    .dataframe tbody tr th {\n",
       "        vertical-align: top;\n",
       "    }\n",
       "\n",
       "    .dataframe thead th {\n",
       "        text-align: right;\n",
       "    }\n",
       "</style>\n",
       "<table border=\"1\" class=\"dataframe\">\n",
       "  <thead>\n",
       "    <tr style=\"text-align: right;\">\n",
       "      <th></th>\n",
       "      <th>Date</th>\n",
       "      <th>Product</th>\n",
       "      <th>Price</th>\n",
       "      <th>Quantity</th>\n",
       "    </tr>\n",
       "  </thead>\n",
       "  <tbody>\n",
       "    <tr>\n",
       "      <th>0</th>\n",
       "      <td>2045-01-01</td>\n",
       "      <td>Microphone</td>\n",
       "      <td>112.55</td>\n",
       "      <td>5</td>\n",
       "    </tr>\n",
       "    <tr>\n",
       "      <th>1</th>\n",
       "      <td>2045-01-02</td>\n",
       "      <td>Microphone</td>\n",
       "      <td>158.05</td>\n",
       "      <td>7</td>\n",
       "    </tr>\n",
       "    <tr>\n",
       "      <th>2</th>\n",
       "      <td>2045-01-03</td>\n",
       "      <td>Table</td>\n",
       "      <td>50.02</td>\n",
       "      <td>1</td>\n",
       "    </tr>\n",
       "    <tr>\n",
       "      <th>3</th>\n",
       "      <td>2045-01-04</td>\n",
       "      <td>Microphone</td>\n",
       "      <td>95.35</td>\n",
       "      <td>7</td>\n",
       "    </tr>\n",
       "    <tr>\n",
       "      <th>4</th>\n",
       "      <td>2045-01-05</td>\n",
       "      <td>Phone</td>\n",
       "      <td>72.01</td>\n",
       "      <td>6</td>\n",
       "    </tr>\n",
       "    <tr>\n",
       "      <th>...</th>\n",
       "      <td>...</td>\n",
       "      <td>...</td>\n",
       "      <td>...</td>\n",
       "      <td>...</td>\n",
       "    </tr>\n",
       "    <tr>\n",
       "      <th>95</th>\n",
       "      <td>2045-04-06</td>\n",
       "      <td>Table</td>\n",
       "      <td>85.55</td>\n",
       "      <td>12</td>\n",
       "    </tr>\n",
       "    <tr>\n",
       "      <th>96</th>\n",
       "      <td>2045-04-07</td>\n",
       "      <td>Camera</td>\n",
       "      <td>185.51</td>\n",
       "      <td>4</td>\n",
       "    </tr>\n",
       "    <tr>\n",
       "      <th>97</th>\n",
       "      <td>2045-04-08</td>\n",
       "      <td>Phone</td>\n",
       "      <td>136.05</td>\n",
       "      <td>4</td>\n",
       "    </tr>\n",
       "    <tr>\n",
       "      <th>98</th>\n",
       "      <td>2045-04-09</td>\n",
       "      <td>Camera</td>\n",
       "      <td>50.43</td>\n",
       "      <td>12</td>\n",
       "    </tr>\n",
       "    <tr>\n",
       "      <th>99</th>\n",
       "      <td>2045-04-10</td>\n",
       "      <td>Camera</td>\n",
       "      <td>142.57</td>\n",
       "      <td>11</td>\n",
       "    </tr>\n",
       "  </tbody>\n",
       "</table>\n",
       "<p>100 rows × 4 columns</p>\n",
       "</div>"
      ],
      "text/plain": [
       "         Date     Product   Price  Quantity\n",
       "0  2045-01-01  Microphone  112.55         5\n",
       "1  2045-01-02  Microphone  158.05         7\n",
       "2  2045-01-03       Table   50.02         1\n",
       "3  2045-01-04  Microphone   95.35         7\n",
       "4  2045-01-05       Phone   72.01         6\n",
       "..        ...         ...     ...       ...\n",
       "95 2045-04-06       Table   85.55        12\n",
       "96 2045-04-07      Camera  185.51         4\n",
       "97 2045-04-08       Phone  136.05         4\n",
       "98 2045-04-09      Camera   50.43        12\n",
       "99 2045-04-10      Camera  142.57        11\n",
       "\n",
       "[100 rows x 4 columns]"
      ]
     },
     "execution_count": 67,
     "metadata": {},
     "output_type": "execute_result"
    }
   ],
   "source": [
    "df = pd.read_csv('random_sales.csv', parse_dates=['Date'], date_format='%Y-%m-%d')\n",
    "df"
   ]
  },
  {
   "cell_type": "code",
   "execution_count": 68,
   "id": "9a68d276-3190-4c7f-bafd-a7f549ae07c5",
   "metadata": {},
   "outputs": [
    {
     "data": {
      "text/plain": [
       "Date        datetime64[ns]\n",
       "Product             object\n",
       "Price              float64\n",
       "Quantity             int64\n",
       "dtype: object"
      ]
     },
     "execution_count": 68,
     "metadata": {},
     "output_type": "execute_result"
    }
   ],
   "source": [
    "df.dtypes"
   ]
  },
  {
   "cell_type": "code",
   "execution_count": 69,
   "id": "3e94c3c7-c3bd-4768-b5bb-b6382f45c206",
   "metadata": {},
   "outputs": [],
   "source": [
    "df.to_excel('sales_data.xlsx')"
   ]
  },
  {
   "cell_type": "code",
   "execution_count": 70,
   "id": "665a0eab-a0fd-4eda-a538-2aed8cb24148",
   "metadata": {},
   "outputs": [],
   "source": [
    "df.to_json('sales_data.json')"
   ]
  },
  {
   "cell_type": "code",
   "execution_count": 71,
   "id": "b01167a7-54f2-4b23-ae54-6c2bde979f74",
   "metadata": {},
   "outputs": [
    {
     "data": {
      "text/plain": [
       "(100, 4)"
      ]
     },
     "execution_count": 71,
     "metadata": {},
     "output_type": "execute_result"
    }
   ],
   "source": [
    "df.shape"
   ]
  },
  {
   "cell_type": "code",
   "execution_count": 72,
   "id": "566d9dd8-afb6-4844-9c8c-4e73bda8f567",
   "metadata": {},
   "outputs": [
    {
     "data": {
      "text/html": [
       "<div>\n",
       "<style scoped>\n",
       "    .dataframe tbody tr th:only-of-type {\n",
       "        vertical-align: middle;\n",
       "    }\n",
       "\n",
       "    .dataframe tbody tr th {\n",
       "        vertical-align: top;\n",
       "    }\n",
       "\n",
       "    .dataframe thead th {\n",
       "        text-align: right;\n",
       "    }\n",
       "</style>\n",
       "<table border=\"1\" class=\"dataframe\">\n",
       "  <thead>\n",
       "    <tr style=\"text-align: right;\">\n",
       "      <th></th>\n",
       "      <th>Date</th>\n",
       "      <th>Price</th>\n",
       "      <th>Quantity</th>\n",
       "    </tr>\n",
       "  </thead>\n",
       "  <tbody>\n",
       "    <tr>\n",
       "      <th>count</th>\n",
       "      <td>100</td>\n",
       "      <td>100.000000</td>\n",
       "      <td>100.000000</td>\n",
       "    </tr>\n",
       "    <tr>\n",
       "      <th>mean</th>\n",
       "      <td>2045-02-19 12:00:00</td>\n",
       "      <td>122.881300</td>\n",
       "      <td>7.510000</td>\n",
       "    </tr>\n",
       "    <tr>\n",
       "      <th>min</th>\n",
       "      <td>2045-01-01 00:00:00</td>\n",
       "      <td>50.020000</td>\n",
       "      <td>1.000000</td>\n",
       "    </tr>\n",
       "    <tr>\n",
       "      <th>25%</th>\n",
       "      <td>2045-01-25 18:00:00</td>\n",
       "      <td>81.472500</td>\n",
       "      <td>4.000000</td>\n",
       "    </tr>\n",
       "    <tr>\n",
       "      <th>50%</th>\n",
       "      <td>2045-02-19 12:00:00</td>\n",
       "      <td>120.615000</td>\n",
       "      <td>7.000000</td>\n",
       "    </tr>\n",
       "    <tr>\n",
       "      <th>75%</th>\n",
       "      <td>2045-03-16 06:00:00</td>\n",
       "      <td>158.262500</td>\n",
       "      <td>11.250000</td>\n",
       "    </tr>\n",
       "    <tr>\n",
       "      <th>max</th>\n",
       "      <td>2045-04-10 00:00:00</td>\n",
       "      <td>198.330000</td>\n",
       "      <td>14.000000</td>\n",
       "    </tr>\n",
       "    <tr>\n",
       "      <th>std</th>\n",
       "      <td>NaN</td>\n",
       "      <td>44.382936</td>\n",
       "      <td>4.314633</td>\n",
       "    </tr>\n",
       "  </tbody>\n",
       "</table>\n",
       "</div>"
      ],
      "text/plain": [
       "                      Date       Price    Quantity\n",
       "count                  100  100.000000  100.000000\n",
       "mean   2045-02-19 12:00:00  122.881300    7.510000\n",
       "min    2045-01-01 00:00:00   50.020000    1.000000\n",
       "25%    2045-01-25 18:00:00   81.472500    4.000000\n",
       "50%    2045-02-19 12:00:00  120.615000    7.000000\n",
       "75%    2045-03-16 06:00:00  158.262500   11.250000\n",
       "max    2045-04-10 00:00:00  198.330000   14.000000\n",
       "std                    NaN   44.382936    4.314633"
      ]
     },
     "execution_count": 72,
     "metadata": {},
     "output_type": "execute_result"
    }
   ],
   "source": [
    "df.describe()"
   ]
  },
  {
   "cell_type": "code",
   "execution_count": 73,
   "id": "9e7f2792-2d20-409f-bc9c-2995206f8317",
   "metadata": {},
   "outputs": [
    {
     "data": {
      "text/plain": [
       "array([[Timestamp('2045-01-01 00:00:00'), 'Microphone', 112.55, 5],\n",
       "       [Timestamp('2045-01-02 00:00:00'), 'Microphone', 158.05, 7],\n",
       "       [Timestamp('2045-01-03 00:00:00'), 'Table', 50.02, 1],\n",
       "       [Timestamp('2045-01-04 00:00:00'), 'Microphone', 95.35, 7],\n",
       "       [Timestamp('2045-01-05 00:00:00'), 'Phone', 72.01, 6],\n",
       "       [Timestamp('2045-01-06 00:00:00'), 'Table', 63.85, 14],\n",
       "       [Timestamp('2045-01-07 00:00:00'), 'Table', 77.94, 2],\n",
       "       [Timestamp('2045-01-08 00:00:00'), 'Tablet', 101.83, 3],\n",
       "       [Timestamp('2045-01-09 00:00:00'), 'Microphone', 109.52, 2],\n",
       "       [Timestamp('2045-01-10 00:00:00'), 'Microphone', 130.82, 6],\n",
       "       [Timestamp('2045-01-11 00:00:00'), 'Tablet', 112.88, 5],\n",
       "       [Timestamp('2045-01-12 00:00:00'), 'Microphone', 152.78, 11],\n",
       "       [Timestamp('2045-01-13 00:00:00'), 'Camera', 80.67, 1],\n",
       "       [Timestamp('2045-01-14 00:00:00'), 'Tablet', 181.72, 8],\n",
       "       [Timestamp('2045-01-15 00:00:00'), 'Phone', 54.11, 14],\n",
       "       [Timestamp('2045-01-16 00:00:00'), 'Phone', 150.57, 9],\n",
       "       [Timestamp('2045-01-17 00:00:00'), 'Phone', 112.6, 10],\n",
       "       [Timestamp('2045-01-18 00:00:00'), 'Tablet', 133.8, 6],\n",
       "       [Timestamp('2045-01-19 00:00:00'), 'Phone', 71.06, 8],\n",
       "       [Timestamp('2045-01-20 00:00:00'), 'Camera', 79.72, 1],\n",
       "       [Timestamp('2045-01-21 00:00:00'), 'Table', 170.11, 10],\n",
       "       [Timestamp('2045-01-22 00:00:00'), 'Tablet', 195.24, 4],\n",
       "       [Timestamp('2045-01-23 00:00:00'), 'Table', 97.01, 10],\n",
       "       [Timestamp('2045-01-24 00:00:00'), 'Table', 153.85, 2],\n",
       "       [Timestamp('2045-01-25 00:00:00'), 'Camera', 181.46, 14],\n",
       "       [Timestamp('2045-01-26 00:00:00'), 'Microphone', 184.19, 5],\n",
       "       [Timestamp('2045-01-27 00:00:00'), 'Camera', 62.76, 5],\n",
       "       [Timestamp('2045-01-28 00:00:00'), 'Table', 55.86, 12],\n",
       "       [Timestamp('2045-01-29 00:00:00'), 'Camera', 75.47, 7],\n",
       "       [Timestamp('2045-01-30 00:00:00'), 'Phone', 181.72, 14],\n",
       "       [Timestamp('2045-01-31 00:00:00'), 'Camera', 64.75, 9],\n",
       "       [Timestamp('2045-02-01 00:00:00'), 'Tablet', 113.17, 12],\n",
       "       [Timestamp('2045-02-02 00:00:00'), 'Tablet', 193.68, 9],\n",
       "       [Timestamp('2045-02-03 00:00:00'), 'Phone', 129.97, 12],\n",
       "       [Timestamp('2045-02-04 00:00:00'), 'Table', 153.78, 10],\n",
       "       [Timestamp('2045-02-05 00:00:00'), 'Camera', 97.33, 3],\n",
       "       [Timestamp('2045-02-06 00:00:00'), 'Tablet', 152.98, 8],\n",
       "       [Timestamp('2045-02-07 00:00:00'), 'Tablet', 175.19, 6],\n",
       "       [Timestamp('2045-02-08 00:00:00'), 'Microphone', 52.74, 6],\n",
       "       [Timestamp('2045-02-09 00:00:00'), 'Camera', 162.52, 5],\n",
       "       [Timestamp('2045-02-10 00:00:00'), 'Tablet', 198.33, 6],\n",
       "       [Timestamp('2045-02-11 00:00:00'), 'Table', 162.22, 9],\n",
       "       [Timestamp('2045-02-12 00:00:00'), 'Microphone', 92.07, 6],\n",
       "       [Timestamp('2045-02-13 00:00:00'), 'Phone', 168.39, 9],\n",
       "       [Timestamp('2045-02-14 00:00:00'), 'Microphone', 65.48, 14],\n",
       "       [Timestamp('2045-02-15 00:00:00'), 'Table', 117.18, 12],\n",
       "       [Timestamp('2045-02-16 00:00:00'), 'Table', 186.29, 2],\n",
       "       [Timestamp('2045-02-17 00:00:00'), 'Microphone', 94.04, 2],\n",
       "       [Timestamp('2045-02-18 00:00:00'), 'Tablet', 93.17, 14],\n",
       "       [Timestamp('2045-02-19 00:00:00'), 'Tablet', 69.5, 9],\n",
       "       [Timestamp('2045-02-20 00:00:00'), 'Tablet', 52.91, 14],\n",
       "       [Timestamp('2045-02-21 00:00:00'), 'Table', 151.83, 8],\n",
       "       [Timestamp('2045-02-22 00:00:00'), 'Camera', 81.74, 1],\n",
       "       [Timestamp('2045-02-23 00:00:00'), 'Table', 89.83, 13],\n",
       "       [Timestamp('2045-02-24 00:00:00'), 'Camera', 123.74, 11],\n",
       "       [Timestamp('2045-02-25 00:00:00'), 'Phone', 58.0, 14],\n",
       "       [Timestamp('2045-02-26 00:00:00'), 'Phone', 136.12, 4],\n",
       "       [Timestamp('2045-02-27 00:00:00'), 'Table', 72.01, 5],\n",
       "       [Timestamp('2045-02-28 00:00:00'), 'Microphone', 138.4, 3],\n",
       "       [Timestamp('2045-03-01 00:00:00'), 'Table', 154.96, 1],\n",
       "       [Timestamp('2045-03-02 00:00:00'), 'Table', 65.35, 14],\n",
       "       [Timestamp('2045-03-03 00:00:00'), 'Tablet', 112.11, 12],\n",
       "       [Timestamp('2045-03-04 00:00:00'), 'Microphone', 154.16, 4],\n",
       "       [Timestamp('2045-03-05 00:00:00'), 'Phone', 112.13, 6],\n",
       "       [Timestamp('2045-03-06 00:00:00'), 'Table', 57.49, 14],\n",
       "       [Timestamp('2045-03-07 00:00:00'), 'Microphone', 130.38, 2],\n",
       "       [Timestamp('2045-03-08 00:00:00'), 'Table', 149.57, 3],\n",
       "       [Timestamp('2045-03-09 00:00:00'), 'Phone', 127.23, 5],\n",
       "       [Timestamp('2045-03-10 00:00:00'), 'Microphone', 191.69, 4],\n",
       "       [Timestamp('2045-03-11 00:00:00'), 'Tablet', 137.98, 1],\n",
       "       [Timestamp('2045-03-12 00:00:00'), 'Phone', 185.51, 7],\n",
       "       [Timestamp('2045-03-13 00:00:00'), 'Camera', 70.62, 1],\n",
       "       [Timestamp('2045-03-14 00:00:00'), 'Microphone', 70.89, 14],\n",
       "       [Timestamp('2045-03-15 00:00:00'), 'Phone', 171.11, 13],\n",
       "       [Timestamp('2045-03-16 00:00:00'), 'Tablet', 109.65, 8],\n",
       "       [Timestamp('2045-03-17 00:00:00'), 'Camera', 74.8, 3],\n",
       "       [Timestamp('2045-03-18 00:00:00'), 'Table', 189.13, 13],\n",
       "       [Timestamp('2045-03-19 00:00:00'), 'Camera', 102.16, 11],\n",
       "       [Timestamp('2045-03-20 00:00:00'), 'Microphone', 162.62, 9],\n",
       "       [Timestamp('2045-03-21 00:00:00'), 'Microphone', 158.9, 14],\n",
       "       [Timestamp('2045-03-22 00:00:00'), 'Camera', 182.5, 4],\n",
       "       [Timestamp('2045-03-23 00:00:00'), 'Phone', 143.55, 1],\n",
       "       [Timestamp('2045-03-24 00:00:00'), 'Tablet', 162.64, 9],\n",
       "       [Timestamp('2045-03-25 00:00:00'), 'Phone', 102.33, 5],\n",
       "       [Timestamp('2045-03-26 00:00:00'), 'Table', 90.49, 14],\n",
       "       [Timestamp('2045-03-27 00:00:00'), 'Tablet', 184.38, 3],\n",
       "       [Timestamp('2045-03-28 00:00:00'), 'Phone', 114.21, 10],\n",
       "       [Timestamp('2045-03-29 00:00:00'), 'Table', 194.73, 1],\n",
       "       [Timestamp('2045-03-30 00:00:00'), 'Microphone', 149.52, 13],\n",
       "       [Timestamp('2045-03-31 00:00:00'), 'Table', 143.25, 4],\n",
       "       [Timestamp('2045-04-01 00:00:00'), 'Microphone', 67.21, 9],\n",
       "       [Timestamp('2045-04-02 00:00:00'), 'Tablet', 192.42, 2],\n",
       "       [Timestamp('2045-04-03 00:00:00'), 'Table', 117.49, 11],\n",
       "       [Timestamp('2045-04-04 00:00:00'), 'Phone', 136.76, 5],\n",
       "       [Timestamp('2045-04-05 00:00:00'), 'Phone', 111.22, 13],\n",
       "       [Timestamp('2045-04-06 00:00:00'), 'Table', 85.55, 12],\n",
       "       [Timestamp('2045-04-07 00:00:00'), 'Camera', 185.51, 4],\n",
       "       [Timestamp('2045-04-08 00:00:00'), 'Phone', 136.05, 4],\n",
       "       [Timestamp('2045-04-09 00:00:00'), 'Camera', 50.43, 12],\n",
       "       [Timestamp('2045-04-10 00:00:00'), 'Camera', 142.57, 11]],\n",
       "      dtype=object)"
      ]
     },
     "execution_count": 73,
     "metadata": {},
     "output_type": "execute_result"
    }
   ],
   "source": [
    "df.values"
   ]
  },
  {
   "cell_type": "code",
   "execution_count": 74,
   "id": "128f6bb4-8615-4323-afa1-5b096098368b",
   "metadata": {},
   "outputs": [
    {
     "data": {
      "text/plain": [
       "Product\n",
       "Camera        103\n",
       "Microphone    143\n",
       "Phone         169\n",
       "Table         197\n",
       "Tablet        139\n",
       "Name: Quantity, dtype: int64"
      ]
     },
     "execution_count": 74,
     "metadata": {},
     "output_type": "execute_result"
    }
   ],
   "source": [
    "product_sales = df.groupby('Product')['Quantity'].sum()\n",
    "product_sales"
   ]
  },
  {
   "cell_type": "code",
   "execution_count": 75,
   "id": "eacc27c9-802e-4636-9044-0398d8dd8b87",
   "metadata": {},
   "outputs": [
    {
     "data": {
      "text/plain": [
       "pandas.core.series.Series"
      ]
     },
     "execution_count": 75,
     "metadata": {},
     "output_type": "execute_result"
    }
   ],
   "source": [
    "type(product_sales)"
   ]
  },
  {
   "cell_type": "code",
   "execution_count": 76,
   "id": "6ae86f6b-b9e3-40f9-bf14-3073000765c7",
   "metadata": {},
   "outputs": [
    {
     "data": {
      "text/plain": [
       "Product\n",
       "Camera        106.985294\n",
       "Microphone    123.568000\n",
       "Phone         123.732500\n",
       "Table         118.741250\n",
       "Tablet        140.714737\n",
       "Name: Price, dtype: float64"
      ]
     },
     "execution_count": 76,
     "metadata": {},
     "output_type": "execute_result"
    }
   ],
   "source": [
    "average_price = df.groupby('Product')['Price'].mean()\n",
    "average_price"
   ]
  },
  {
   "cell_type": "code",
   "execution_count": 77,
   "id": "204ad11d-12f7-4474-9221-9e3bb5e3f4d4",
   "metadata": {},
   "outputs": [
    {
     "data": {
      "image/png": "[encoded data removed]",
      "text/plain": [
       "<Figure size 640x480 with 1 Axes>"
      ]
     },
     "metadata": {},
     "output_type": "display_data"
    }
   ],
   "source": [
    "plt.bar(product_sales.index, product_sales.values, color=['red', 'green', 'blue'])\n",
    "plt.title('Total Sales per Product')\n",
    "plt.xlabel('Product')\n",
    "plt.ylabel('Total Sales')\n",
    "plt.show()"
   ]
  },
  {
   "cell_type": "code",
   "execution_count": 78,
   "id": "00807257-2189-42a7-9c1c-a87b24d712bb",
   "metadata": {},
   "outputs": [
    {
     "data": {
      "image/png": "[encoded data removed]",
      "text/plain": [
       "<Figure size 640x480 with 1 Axes>"
      ]
     },
     "metadata": {},
     "output_type": "display_data"
    }
   ],
   "source": [
    "plt.plot(average_price.index, average_price.values)\n",
    "plt.xlabel('Product')\n",
    "plt.ylabel('Average Price')\n",
    "plt.title('Average Price per Product')\n",
    "plt.show()"
   ]
  }
 ],
 "metadata": {
  "kernelspec": {
   "display_name": "Python 3 (ipykernel)",
   "language": "python",
   "name": "python3"
  },
  "language_info": {
   "codemirror_mode": {
    "name": "ipython",
    "version": 3
   },
   "file_extension": ".py",
   "mimetype": "text/x-python",
   "name": "python",
   "nbconvert_exporter": "python",
   "pygments_lexer": "ipython3",
   "version": "3.11.3"
  }
 },
 "nbformat": 4,
 "nbformat_minor": 5
}
