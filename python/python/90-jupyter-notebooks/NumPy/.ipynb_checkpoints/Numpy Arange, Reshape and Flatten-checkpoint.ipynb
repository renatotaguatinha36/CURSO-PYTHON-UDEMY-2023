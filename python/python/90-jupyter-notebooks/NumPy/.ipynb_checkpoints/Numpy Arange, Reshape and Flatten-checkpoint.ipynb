{
 "cells": [
  {
   "cell_type": "code",
   "execution_count": 1,
   "id": "5915817c-91bd-4b78-814e-452684e5472c",
   "metadata": {},
   "outputs": [],
   "source": [
    "import numpy as np"
   ]
  },
  {
   "cell_type": "code",
   "execution_count": 5,
   "id": "0c34011f-9f96-49ef-b971-3057211bbb16",
   "metadata": {},
   "outputs": [
    {
     "data": {
      "text/plain": [
       "array([0, 1, 2, 3, 4, 5, 6])"
      ]
     },
     "execution_count": 5,
     "metadata": {},
     "output_type": "execute_result"
    }
   ],
   "source": [
    "np.arange(7)"
   ]
  },
  {
   "cell_type": "code",
   "execution_count": 6,
   "id": "727e19af-4086-4d00-a3b5-a8fb652eda59",
   "metadata": {},
   "outputs": [
    {
     "data": {
      "text/plain": [
       "array([10, 11, 12, 13, 14])"
      ]
     },
     "execution_count": 6,
     "metadata": {},
     "output_type": "execute_result"
    }
   ],
   "source": [
    "np.arange(10, 15)"
   ]
  },
  {
   "cell_type": "code",
   "execution_count": 4,
   "id": "5be4cfdc-c687-474c-86d9-417857576655",
   "metadata": {},
   "outputs": [
    {
     "data": {
      "text/plain": [
       "array([2, 5, 8])"
      ]
     },
     "execution_count": 4,
     "metadata": {},
     "output_type": "execute_result"
    }
   ],
   "source": [
    "np.arange(2, 10, 3)"
   ]
  },
  {
   "cell_type": "code",
   "execution_count": 15,
   "id": "58a6b736-a512-4dde-b792-68d4419cf565",
   "metadata": {},
   "outputs": [
    {
     "data": {
      "text/plain": [
       "array([-15, -11,  -7,  -3,   1])"
      ]
     },
     "execution_count": 15,
     "metadata": {},
     "output_type": "execute_result"
    }
   ],
   "source": [
    "np.arange(-15, 5, 4)"
   ]
  },
  {
   "cell_type": "code",
   "execution_count": 7,
   "id": "d015f806-cb0e-49f2-a1dc-ee1c65b80e42",
   "metadata": {},
   "outputs": [
    {
     "data": {
      "text/plain": [
       "array([[ 0,  1,  2,  3,  4,  5,  6,  7,  8,  9],\n",
       "       [10, 11, 12, 13, 14, 15, 16, 17, 18, 19]])"
      ]
     },
     "execution_count": 7,
     "metadata": {},
     "output_type": "execute_result"
    }
   ],
   "source": [
    "np.arange(20).reshape([2, 10])"
   ]
  },
  {
   "cell_type": "code",
   "execution_count": 9,
   "id": "86999e44-a0e2-404b-8bcf-57b9ac6460fe",
   "metadata": {},
   "outputs": [
    {
     "data": {
      "text/plain": [
       "array([[ 0,  1,  2,  3,  4],\n",
       "       [ 5,  6,  7,  8,  9],\n",
       "       [10, 11, 12, 13, 14],\n",
       "       [15, 16, 17, 18, 19]])"
      ]
     },
     "execution_count": 9,
     "metadata": {},
     "output_type": "execute_result"
    }
   ],
   "source": [
    "np.arange(20).reshape([4, 5])"
   ]
  },
  {
   "cell_type": "code",
   "execution_count": 10,
   "id": "b407a368-4b8c-42b5-9e40-d5bb7ea4d19e",
   "metadata": {},
   "outputs": [
    {
     "data": {
      "text/plain": [
       "array([[[ 0,  1,  2,  3,  4],\n",
       "        [ 5,  6,  7,  8,  9]],\n",
       "\n",
       "       [[10, 11, 12, 13, 14],\n",
       "        [15, 16, 17, 18, 19]]])"
      ]
     },
     "execution_count": 10,
     "metadata": {},
     "output_type": "execute_result"
    }
   ],
   "source": [
    "np.arange(20).reshape([2, 2, 5])"
   ]
  },
  {
   "cell_type": "code",
   "execution_count": 13,
   "id": "83f7f390-305b-44f6-947d-7ad58714efc8",
   "metadata": {},
   "outputs": [
    {
     "data": {
      "text/plain": [
       "array([[10,  2,  5,  7,  9],\n",
       "       [15, 25, 30, 35, 40]])"
      ]
     },
     "execution_count": 13,
     "metadata": {},
     "output_type": "execute_result"
    }
   ],
   "source": [
    "np.array([10, 2, 5, 7, 9, 15, 25, 30, 35, 40]).reshape([2, 5])"
   ]
  },
  {
   "cell_type": "code",
   "execution_count": 18,
   "id": "3335600b-27a6-460c-b74f-cc7557bdf4f6",
   "metadata": {},
   "outputs": [
    {
     "data": {
      "text/plain": [
       "array([[10],\n",
       "       [ 2],\n",
       "       [ 5],\n",
       "       [ 7],\n",
       "       [ 9],\n",
       "       [15],\n",
       "       [25],\n",
       "       [30],\n",
       "       [35],\n",
       "       [40]])"
      ]
     },
     "execution_count": 18,
     "metadata": {},
     "output_type": "execute_result"
    }
   ],
   "source": [
    "np.array([10, 2, 5, 7, 9, 15, 25, 30, 35, 40]).reshape([2, 5]).reshape([10, 1])"
   ]
  },
  {
   "cell_type": "code",
   "execution_count": 22,
   "id": "0868da56-c462-41df-af3e-018c45a90d2b",
   "metadata": {},
   "outputs": [
    {
     "data": {
      "text/plain": [
       "array([0.85194423, 0.54984096, 0.62325161, 0.51418508, 0.19403962,\n",
       "       0.43505885, 0.93779544, 0.40903673, 0.08789108, 0.99974998,\n",
       "       0.54030725, 0.34959375, 0.72158741, 0.04998791, 0.487174  ,\n",
       "       0.50100827, 0.5277219 , 0.76122315, 0.44504901, 0.27403076,\n",
       "       0.51285503, 0.26753307, 0.15365041, 0.94592239, 0.00528848,\n",
       "       0.70687001, 0.85054936, 0.60573892, 0.51811623, 0.91354745,\n",
       "       0.98023079, 0.12017769, 0.13071763, 0.67694419, 0.58325113,\n",
       "       0.85453665])"
      ]
     },
     "execution_count": 22,
     "metadata": {},
     "output_type": "execute_result"
    }
   ],
   "source": [
    "np.random.random((4, 3, 3)).flatten()"
   ]
  },
  {
   "cell_type": "code",
   "execution_count": 14,
   "id": "e2ba9a48-e883-4f28-9c44-42e89878fd0a",
   "metadata": {},
   "outputs": [
    {
     "ename": "ValueError",
     "evalue": "cannot reshape array of size 10 into shape (3,5)",
     "output_type": "error",
     "traceback": [
      "\u001b[0;31m---------------------------------------------------------------------------\u001b[0m",
      "\u001b[0;31mValueError\u001b[0m                                Traceback (most recent call last)",
      "Cell \u001b[0;32mIn[14], line 1\u001b[0m\n\u001b[0;32m----> 1\u001b[0m \u001b[43mnp\u001b[49m\u001b[38;5;241;43m.\u001b[39;49m\u001b[43marray\u001b[49m\u001b[43m(\u001b[49m\u001b[43m[\u001b[49m\u001b[38;5;241;43m10\u001b[39;49m\u001b[43m,\u001b[49m\u001b[43m \u001b[49m\u001b[38;5;241;43m2\u001b[39;49m\u001b[43m,\u001b[49m\u001b[43m \u001b[49m\u001b[38;5;241;43m5\u001b[39;49m\u001b[43m,\u001b[49m\u001b[43m \u001b[49m\u001b[38;5;241;43m7\u001b[39;49m\u001b[43m,\u001b[49m\u001b[43m \u001b[49m\u001b[38;5;241;43m9\u001b[39;49m\u001b[43m,\u001b[49m\u001b[43m \u001b[49m\u001b[38;5;241;43m15\u001b[39;49m\u001b[43m,\u001b[49m\u001b[43m \u001b[49m\u001b[38;5;241;43m25\u001b[39;49m\u001b[43m,\u001b[49m\u001b[43m \u001b[49m\u001b[38;5;241;43m30\u001b[39;49m\u001b[43m,\u001b[49m\u001b[43m \u001b[49m\u001b[38;5;241;43m35\u001b[39;49m\u001b[43m,\u001b[49m\u001b[43m \u001b[49m\u001b[38;5;241;43m40\u001b[39;49m\u001b[43m]\u001b[49m\u001b[43m)\u001b[49m\u001b[38;5;241;43m.\u001b[39;49m\u001b[43mreshape\u001b[49m\u001b[43m(\u001b[49m\u001b[43m[\u001b[49m\u001b[38;5;241;43m3\u001b[39;49m\u001b[43m,\u001b[49m\u001b[43m \u001b[49m\u001b[38;5;241;43m5\u001b[39;49m\u001b[43m]\u001b[49m\u001b[43m)\u001b[49m\n",
      "\u001b[0;31mValueError\u001b[0m: cannot reshape array of size 10 into shape (3,5)"
     ]
    }
   ],
   "source": [
    "np.array([10, 2, 5, 7, 9, 15, 25, 30, 35, 40]).reshape([3, 5])"
   ]
  }
 ],
 "metadata": {
  "kernelspec": {
   "display_name": "Python 3 (ipykernel)",
   "language": "python",
   "name": "python3"
  },
  "language_info": {
   "codemirror_mode": {
    "name": "ipython",
    "version": 3
   },
   "file_extension": ".py",
   "mimetype": "text/x-python",
   "name": "python",
   "nbconvert_exporter": "python",
   "pygments_lexer": "ipython3",
   "version": "3.11.3"
  }
 },
 "nbformat": 4,
 "nbformat_minor": 5
}
