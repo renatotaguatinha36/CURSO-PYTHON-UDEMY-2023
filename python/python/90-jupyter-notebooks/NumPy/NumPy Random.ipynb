{
 "cells": [
  {
   "cell_type": "code",
   "execution_count": 1,
   "id": "685b3e82-81ef-45d2-82a7-42f4a53c4f8d",
   "metadata": {},
   "outputs": [],
   "source": [
    "import numpy as np"
   ]
  },
  {
   "cell_type": "code",
   "execution_count": 5,
   "id": "f2e52207-6d1c-4600-9b24-014404a95d6f",
   "metadata": {},
   "outputs": [
    {
     "data": {
      "text/plain": [
       "array([[0, 0, 0, 0],\n",
       "       [0, 0, 0, 0],\n",
       "       [0, 0, 0, 0]])"
      ]
     },
     "execution_count": 5,
     "metadata": {},
     "output_type": "execute_result"
    }
   ],
   "source": [
    "np.zeros((3, 4), dtype=int)"
   ]
  },
  {
   "cell_type": "code",
   "execution_count": 9,
   "id": "19ef03cd-d436-44b9-9749-204d2fe5972f",
   "metadata": {},
   "outputs": [
    {
     "data": {
      "text/plain": [
       "array([[1, 1, 1],\n",
       "       [1, 1, 1]])"
      ]
     },
     "execution_count": 9,
     "metadata": {},
     "output_type": "execute_result"
    }
   ],
   "source": [
    "np.ones((2, 3), dtype=int)"
   ]
  },
  {
   "cell_type": "code",
   "execution_count": 81,
   "id": "0bd21861-b93c-44b5-b628-1c8297cc0770",
   "metadata": {},
   "outputs": [
    {
     "data": {
      "text/plain": [
       "array([[0.77132064, 0.02075195, 0.63364823, 0.74880388],\n",
       "       [0.49850701, 0.22479665, 0.19806286, 0.76053071],\n",
       "       [0.16911084, 0.08833981, 0.68535982, 0.95339335]])"
      ]
     },
     "execution_count": 81,
     "metadata": {},
     "output_type": "execute_result"
    }
   ],
   "source": [
    "np.random.seed(10)\n",
    "np.random.random((3, 4))"
   ]
  },
  {
   "cell_type": "code",
   "execution_count": 66,
   "id": "ee9f52f4-47f6-44b9-abb3-b687f89a68a6",
   "metadata": {},
   "outputs": [
    {
     "data": {
      "text/plain": [
       "array([[15, 18, 19, 15, 10],\n",
       "       [10, 11, 17, 16, 19],\n",
       "       [12, 14, 15, 12, 14],\n",
       "       [12, 14, 17, 17, 19]])"
      ]
     },
     "execution_count": 66,
     "metadata": {},
     "output_type": "execute_result"
    }
   ],
   "source": [
    "np.random.seed(1)\n",
    "np.random.randint(10, 20, size=(4,5))"
   ]
  },
  {
   "cell_type": "code",
   "execution_count": 74,
   "id": "8a83d438-be17-4c09-bc4a-89bf032d16d5",
   "metadata": {},
   "outputs": [
    {
     "data": {
      "text/plain": [
       "array([[24.84535604, 12.00072344, 39.63822223, 21.94720968, 18.17432511],\n",
       "       [49.27026565, 45.72084849, 40.3739518 , 36.04482236, 11.58734008],\n",
       "       [42.55505461, 40.50292539, 28.21129868, 31.27305805, 14.3734427 ],\n",
       "       [15.84130984, 30.35154955, 18.62601124, 46.65774812, 28.48610051]])"
      ]
     },
     "execution_count": 74,
     "metadata": {},
     "output_type": "execute_result"
    }
   ],
   "source": [
    "# Seed value is generated automatically\n",
    "np.random.uniform(10.0, 50.0, size=(4,5))"
   ]
  }
 ],
 "metadata": {
  "kernelspec": {
   "display_name": "Python 3 (ipykernel)",
   "language": "python",
   "name": "python3"
  },
  "language_info": {
   "codemirror_mode": {
    "name": "ipython",
    "version": 3
   },
   "file_extension": ".py",
   "mimetype": "text/x-python",
   "name": "python",
   "nbconvert_exporter": "python",
   "pygments_lexer": "ipython3",
   "version": "3.11.3"
  }
 },
 "nbformat": 4,
 "nbformat_minor": 5
}
